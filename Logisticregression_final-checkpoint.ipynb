{
 "cells": [
  {
   "cell_type": "markdown",
   "metadata": {
    "id": "l_jZUo2r1Lxm"
   },
   "source": [
    "Q3) Implement a logistic regression algorithm and test the algorithm using any data set of \n",
    "your choice from the UCI repository. The output should include Accuracy, Error rate, \n",
    "Precision, and recall rate along with the confusion matrix."
   ]
  },
  {
   "cell_type": "markdown",
   "metadata": {
    "id": "R63QoQlnT0RN"
   },
   "source": [
    "Logisticregression on UCI repository malware dataset.\n"
   ]
  },
  {
   "cell_type": "markdown",
   "metadata": {
    "id": "PVV-WVfhdf4r"
   },
   "source": [
    "Prakhar Khanduri (19BCE0486) Malware Detection\n"
   ]
  },
  {
   "cell_type": "markdown",
   "metadata": {
    "id": "jvYQA-Q5dV1Q"
   },
   "source": [
    "Import Libraries\n"
   ]
  },
  {
   "cell_type": "code",
   "execution_count": 25,
   "metadata": {
    "id": "sbqw8f6cbkrC"
   },
   "outputs": [],
   "source": [
    "import numpy as np\n",
    "import matplotlib.pyplot as plt\n",
    "import pandas as pd\n"
   ]
  },
  {
   "cell_type": "markdown",
   "metadata": {
    "id": "RHIecv09dt79"
   },
   "source": [
    "Importing the dataset(Malware Dataset)"
   ]
  },
  {
   "cell_type": "code",
   "execution_count": 26,
   "metadata": {
    "colab": {
     "base_uri": "https://localhost:8080/"
    },
    "id": "hO-Xirsyb79j",
    "outputId": "c0abc571-8365-4944-f22c-e186092b972a"
   },
   "outputs": [
    {
     "name": "stdout",
     "output_type": "stream",
     "text": [
      "[[   0    0    0 ...    0    0    0]\n",
      " [   1    0    0 ...    0    0    0]\n",
      " [   2    0    0 ...    0    0    0]\n",
      " ...\n",
      " [ 997 4096    0 ...    0    0    0]\n",
      " [ 998 4096    0 ...    0    0    0]\n",
      " [ 999 4096    0 ...    0    0    0]]\n",
      "['malware' 'malware' 'malware' ... 'malware' 'malware' 'malware']\n"
     ]
    }
   ],
   "source": [
    "dataset = pd.read_csv('/content/Malware dataset.csv')\n",
    "dataset2 = dataset.copy()\n",
    "dataset2 = dataset.drop(['classification'], axis=1)\n",
    "\n",
    "X = dataset2.iloc[:,1:].values\n",
    "y = dataset.iloc[:, 2].values\n",
    "print (X)\n",
    "print(y)"
   ]
  },
  {
   "cell_type": "code",
   "execution_count": 26,
   "metadata": {
    "id": "45AGsoDxdrGc"
   },
   "outputs": [],
   "source": [
    ""
   ]
  },
  {
   "cell_type": "markdown",
   "metadata": {
    "id": "URUxwZQDe0Y9"
   },
   "source": [
    "# New Section"
   ]
  },
  {
   "cell_type": "markdown",
   "metadata": {
    "id": "mfUXVdXPfvNo"
   },
   "source": [
    "Label Encoding(Converting Categorical Data to Numbers So that can work on them. Here converting Malware and Bening)"
   ]
  },
  {
   "cell_type": "code",
   "execution_count": 27,
   "metadata": {
    "colab": {
     "base_uri": "https://localhost:8080/",
     "height": 299
    },
    "id": "wajdHbPbxULd",
    "outputId": "28c1c060-fc99-4154-84d4-c7939e8c4108"
   },
   "outputs": [
    {
     "data": {
      "text/html": [
       "\n",
       "  <div id=\"df-3345f447-f8b0-48ba-a5cf-ccb56dc63f24\">\n",
       "    <div class=\"colab-df-container\">\n",
       "      <div>\n",
       "<style scoped>\n",
       "    .dataframe tbody tr th:only-of-type {\n",
       "        vertical-align: middle;\n",
       "    }\n",
       "\n",
       "    .dataframe tbody tr th {\n",
       "        vertical-align: top;\n",
       "    }\n",
       "\n",
       "    .dataframe thead th {\n",
       "        text-align: right;\n",
       "    }\n",
       "</style>\n",
       "<table border=\"1\" class=\"dataframe\">\n",
       "  <thead>\n",
       "    <tr style=\"text-align: right;\">\n",
       "      <th></th>\n",
       "      <th>hash</th>\n",
       "      <th>millisecond</th>\n",
       "      <th>classification</th>\n",
       "      <th>state</th>\n",
       "      <th>usage_counter</th>\n",
       "      <th>prio</th>\n",
       "      <th>static_prio</th>\n",
       "      <th>normal_prio</th>\n",
       "      <th>policy</th>\n",
       "      <th>vm_pgoff</th>\n",
       "      <th>...</th>\n",
       "      <th>nivcsw</th>\n",
       "      <th>min_flt</th>\n",
       "      <th>maj_flt</th>\n",
       "      <th>fs_excl_counter</th>\n",
       "      <th>lock</th>\n",
       "      <th>utime</th>\n",
       "      <th>stime</th>\n",
       "      <th>gtime</th>\n",
       "      <th>cgtime</th>\n",
       "      <th>signal_nvcsw</th>\n",
       "    </tr>\n",
       "  </thead>\n",
       "  <tbody>\n",
       "    <tr>\n",
       "      <th>0</th>\n",
       "      <td>42fb5e2ec009a05ff5143227297074f1e9c6c3ebb9c914...</td>\n",
       "      <td>0</td>\n",
       "      <td>malware</td>\n",
       "      <td>0</td>\n",
       "      <td>0</td>\n",
       "      <td>3069378560</td>\n",
       "      <td>14274</td>\n",
       "      <td>0</td>\n",
       "      <td>0</td>\n",
       "      <td>0</td>\n",
       "      <td>...</td>\n",
       "      <td>0</td>\n",
       "      <td>0</td>\n",
       "      <td>120</td>\n",
       "      <td>0</td>\n",
       "      <td>3204448256</td>\n",
       "      <td>380690</td>\n",
       "      <td>4</td>\n",
       "      <td>0</td>\n",
       "      <td>0</td>\n",
       "      <td>0</td>\n",
       "    </tr>\n",
       "    <tr>\n",
       "      <th>1</th>\n",
       "      <td>42fb5e2ec009a05ff5143227297074f1e9c6c3ebb9c914...</td>\n",
       "      <td>1</td>\n",
       "      <td>malware</td>\n",
       "      <td>0</td>\n",
       "      <td>0</td>\n",
       "      <td>3069378560</td>\n",
       "      <td>14274</td>\n",
       "      <td>0</td>\n",
       "      <td>0</td>\n",
       "      <td>0</td>\n",
       "      <td>...</td>\n",
       "      <td>0</td>\n",
       "      <td>0</td>\n",
       "      <td>120</td>\n",
       "      <td>0</td>\n",
       "      <td>3204448256</td>\n",
       "      <td>380690</td>\n",
       "      <td>4</td>\n",
       "      <td>0</td>\n",
       "      <td>0</td>\n",
       "      <td>0</td>\n",
       "    </tr>\n",
       "    <tr>\n",
       "      <th>2</th>\n",
       "      <td>42fb5e2ec009a05ff5143227297074f1e9c6c3ebb9c914...</td>\n",
       "      <td>2</td>\n",
       "      <td>malware</td>\n",
       "      <td>0</td>\n",
       "      <td>0</td>\n",
       "      <td>3069378560</td>\n",
       "      <td>14274</td>\n",
       "      <td>0</td>\n",
       "      <td>0</td>\n",
       "      <td>0</td>\n",
       "      <td>...</td>\n",
       "      <td>0</td>\n",
       "      <td>0</td>\n",
       "      <td>120</td>\n",
       "      <td>0</td>\n",
       "      <td>3204448256</td>\n",
       "      <td>380690</td>\n",
       "      <td>4</td>\n",
       "      <td>0</td>\n",
       "      <td>0</td>\n",
       "      <td>0</td>\n",
       "    </tr>\n",
       "    <tr>\n",
       "      <th>3</th>\n",
       "      <td>42fb5e2ec009a05ff5143227297074f1e9c6c3ebb9c914...</td>\n",
       "      <td>3</td>\n",
       "      <td>malware</td>\n",
       "      <td>0</td>\n",
       "      <td>0</td>\n",
       "      <td>3069378560</td>\n",
       "      <td>14274</td>\n",
       "      <td>0</td>\n",
       "      <td>0</td>\n",
       "      <td>0</td>\n",
       "      <td>...</td>\n",
       "      <td>0</td>\n",
       "      <td>0</td>\n",
       "      <td>120</td>\n",
       "      <td>0</td>\n",
       "      <td>3204448256</td>\n",
       "      <td>380690</td>\n",
       "      <td>4</td>\n",
       "      <td>0</td>\n",
       "      <td>0</td>\n",
       "      <td>0</td>\n",
       "    </tr>\n",
       "    <tr>\n",
       "      <th>4</th>\n",
       "      <td>42fb5e2ec009a05ff5143227297074f1e9c6c3ebb9c914...</td>\n",
       "      <td>4</td>\n",
       "      <td>malware</td>\n",
       "      <td>0</td>\n",
       "      <td>0</td>\n",
       "      <td>3069378560</td>\n",
       "      <td>14274</td>\n",
       "      <td>0</td>\n",
       "      <td>0</td>\n",
       "      <td>0</td>\n",
       "      <td>...</td>\n",
       "      <td>0</td>\n",
       "      <td>0</td>\n",
       "      <td>120</td>\n",
       "      <td>0</td>\n",
       "      <td>3204448256</td>\n",
       "      <td>380690</td>\n",
       "      <td>4</td>\n",
       "      <td>0</td>\n",
       "      <td>0</td>\n",
       "      <td>0</td>\n",
       "    </tr>\n",
       "  </tbody>\n",
       "</table>\n",
       "<p>5 rows × 35 columns</p>\n",
       "</div>\n",
       "      <button class=\"colab-df-convert\" onclick=\"convertToInteractive('df-3345f447-f8b0-48ba-a5cf-ccb56dc63f24')\"\n",
       "              title=\"Convert this dataframe to an interactive table.\"\n",
       "              style=\"display:none;\">\n",
       "        \n",
       "  <svg xmlns=\"http://www.w3.org/2000/svg\" height=\"24px\"viewBox=\"0 0 24 24\"\n",
       "       width=\"24px\">\n",
       "    <path d=\"M0 0h24v24H0V0z\" fill=\"none\"/>\n",
       "    <path d=\"M18.56 5.44l.94 2.06.94-2.06 2.06-.94-2.06-.94-.94-2.06-.94 2.06-2.06.94zm-11 1L8.5 8.5l.94-2.06 2.06-.94-2.06-.94L8.5 2.5l-.94 2.06-2.06.94zm10 10l.94 2.06.94-2.06 2.06-.94-2.06-.94-.94-2.06-.94 2.06-2.06.94z\"/><path d=\"M17.41 7.96l-1.37-1.37c-.4-.4-.92-.59-1.43-.59-.52 0-1.04.2-1.43.59L10.3 9.45l-7.72 7.72c-.78.78-.78 2.05 0 2.83L4 21.41c.39.39.9.59 1.41.59.51 0 1.02-.2 1.41-.59l7.78-7.78 2.81-2.81c.8-.78.8-2.07 0-2.86zM5.41 20L4 18.59l7.72-7.72 1.47 1.35L5.41 20z\"/>\n",
       "  </svg>\n",
       "      </button>\n",
       "      \n",
       "  <style>\n",
       "    .colab-df-container {\n",
       "      display:flex;\n",
       "      flex-wrap:wrap;\n",
       "      gap: 12px;\n",
       "    }\n",
       "\n",
       "    .colab-df-convert {\n",
       "      background-color: #E8F0FE;\n",
       "      border: none;\n",
       "      border-radius: 50%;\n",
       "      cursor: pointer;\n",
       "      display: none;\n",
       "      fill: #1967D2;\n",
       "      height: 32px;\n",
       "      padding: 0 0 0 0;\n",
       "      width: 32px;\n",
       "    }\n",
       "\n",
       "    .colab-df-convert:hover {\n",
       "      background-color: #E2EBFA;\n",
       "      box-shadow: 0px 1px 2px rgba(60, 64, 67, 0.3), 0px 1px 3px 1px rgba(60, 64, 67, 0.15);\n",
       "      fill: #174EA6;\n",
       "    }\n",
       "\n",
       "    [theme=dark] .colab-df-convert {\n",
       "      background-color: #3B4455;\n",
       "      fill: #D2E3FC;\n",
       "    }\n",
       "\n",
       "    [theme=dark] .colab-df-convert:hover {\n",
       "      background-color: #434B5C;\n",
       "      box-shadow: 0px 1px 3px 1px rgba(0, 0, 0, 0.15);\n",
       "      filter: drop-shadow(0px 1px 2px rgba(0, 0, 0, 0.3));\n",
       "      fill: #FFFFFF;\n",
       "    }\n",
       "  </style>\n",
       "\n",
       "      <script>\n",
       "        const buttonEl =\n",
       "          document.querySelector('#df-3345f447-f8b0-48ba-a5cf-ccb56dc63f24 button.colab-df-convert');\n",
       "        buttonEl.style.display =\n",
       "          google.colab.kernel.accessAllowed ? 'block' : 'none';\n",
       "\n",
       "        async function convertToInteractive(key) {\n",
       "          const element = document.querySelector('#df-3345f447-f8b0-48ba-a5cf-ccb56dc63f24');\n",
       "          const dataTable =\n",
       "            await google.colab.kernel.invokeFunction('convertToInteractive',\n",
       "                                                     [key], {});\n",
       "          if (!dataTable) return;\n",
       "\n",
       "          const docLinkHtml = 'Like what you see? Visit the ' +\n",
       "            '<a target=\"_blank\" href=https://colab.research.google.com/notebooks/data_table.ipynb>data table notebook</a>'\n",
       "            + ' to learn more about interactive tables.';\n",
       "          element.innerHTML = '';\n",
       "          dataTable['output_type'] = 'display_data';\n",
       "          await google.colab.output.renderOutput(dataTable, element);\n",
       "          const docLink = document.createElement('div');\n",
       "          docLink.innerHTML = docLinkHtml;\n",
       "          element.appendChild(docLink);\n",
       "        }\n",
       "      </script>\n",
       "    </div>\n",
       "  </div>\n",
       "  "
      ],
      "text/plain": [
       "                                                hash  millisecond  \\\n",
       "0  42fb5e2ec009a05ff5143227297074f1e9c6c3ebb9c914...            0   \n",
       "1  42fb5e2ec009a05ff5143227297074f1e9c6c3ebb9c914...            1   \n",
       "2  42fb5e2ec009a05ff5143227297074f1e9c6c3ebb9c914...            2   \n",
       "3  42fb5e2ec009a05ff5143227297074f1e9c6c3ebb9c914...            3   \n",
       "4  42fb5e2ec009a05ff5143227297074f1e9c6c3ebb9c914...            4   \n",
       "\n",
       "  classification  state  usage_counter        prio  static_prio  normal_prio  \\\n",
       "0        malware      0              0  3069378560        14274            0   \n",
       "1        malware      0              0  3069378560        14274            0   \n",
       "2        malware      0              0  3069378560        14274            0   \n",
       "3        malware      0              0  3069378560        14274            0   \n",
       "4        malware      0              0  3069378560        14274            0   \n",
       "\n",
       "   policy  vm_pgoff  ...  nivcsw  min_flt  maj_flt  fs_excl_counter  \\\n",
       "0       0         0  ...       0        0      120                0   \n",
       "1       0         0  ...       0        0      120                0   \n",
       "2       0         0  ...       0        0      120                0   \n",
       "3       0         0  ...       0        0      120                0   \n",
       "4       0         0  ...       0        0      120                0   \n",
       "\n",
       "         lock   utime  stime  gtime  cgtime  signal_nvcsw  \n",
       "0  3204448256  380690      4      0       0             0  \n",
       "1  3204448256  380690      4      0       0             0  \n",
       "2  3204448256  380690      4      0       0             0  \n",
       "3  3204448256  380690      4      0       0             0  \n",
       "4  3204448256  380690      4      0       0             0  \n",
       "\n",
       "[5 rows x 35 columns]"
      ]
     },
     "execution_count": 27,
     "metadata": {},
     "output_type": "execute_result"
    }
   ],
   "source": [
    "dataset.head()"
   ]
  },
  {
   "cell_type": "code",
   "execution_count": 28,
   "metadata": {
    "colab": {
     "base_uri": "https://localhost:8080/",
     "height": 393
    },
    "id": "xTcHO3NCxgCC",
    "outputId": "a8b40fb6-96fa-414b-c4b8-ab43a7b72f0d"
   },
   "outputs": [
    {
     "data": {
      "text/html": [
       "\n",
       "  <div id=\"df-698302fb-5fbc-4a01-a649-d8927cbaabda\">\n",
       "    <div class=\"colab-df-container\">\n",
       "      <div>\n",
       "<style scoped>\n",
       "    .dataframe tbody tr th:only-of-type {\n",
       "        vertical-align: middle;\n",
       "    }\n",
       "\n",
       "    .dataframe tbody tr th {\n",
       "        vertical-align: top;\n",
       "    }\n",
       "\n",
       "    .dataframe thead th {\n",
       "        text-align: right;\n",
       "    }\n",
       "</style>\n",
       "<table border=\"1\" class=\"dataframe\">\n",
       "  <thead>\n",
       "    <tr style=\"text-align: right;\">\n",
       "      <th></th>\n",
       "      <th>millisecond</th>\n",
       "      <th>state</th>\n",
       "      <th>usage_counter</th>\n",
       "      <th>prio</th>\n",
       "      <th>static_prio</th>\n",
       "      <th>normal_prio</th>\n",
       "      <th>policy</th>\n",
       "      <th>vm_pgoff</th>\n",
       "      <th>vm_truncate_count</th>\n",
       "      <th>task_size</th>\n",
       "      <th>...</th>\n",
       "      <th>nivcsw</th>\n",
       "      <th>min_flt</th>\n",
       "      <th>maj_flt</th>\n",
       "      <th>fs_excl_counter</th>\n",
       "      <th>lock</th>\n",
       "      <th>utime</th>\n",
       "      <th>stime</th>\n",
       "      <th>gtime</th>\n",
       "      <th>cgtime</th>\n",
       "      <th>signal_nvcsw</th>\n",
       "    </tr>\n",
       "  </thead>\n",
       "  <tbody>\n",
       "    <tr>\n",
       "      <th>count</th>\n",
       "      <td>100000.000000</td>\n",
       "      <td>1.000000e+05</td>\n",
       "      <td>100000.0</td>\n",
       "      <td>1.000000e+05</td>\n",
       "      <td>100000.000000</td>\n",
       "      <td>100000.0</td>\n",
       "      <td>100000.0</td>\n",
       "      <td>100000.0</td>\n",
       "      <td>100000.000000</td>\n",
       "      <td>100000.0</td>\n",
       "      <td>...</td>\n",
       "      <td>100000.000000</td>\n",
       "      <td>100000.000000</td>\n",
       "      <td>100000.000000</td>\n",
       "      <td>100000.000000</td>\n",
       "      <td>1.000000e+05</td>\n",
       "      <td>100000.000000</td>\n",
       "      <td>100000.000000</td>\n",
       "      <td>100000.00000</td>\n",
       "      <td>100000.0</td>\n",
       "      <td>100000.0</td>\n",
       "    </tr>\n",
       "    <tr>\n",
       "      <th>mean</th>\n",
       "      <td>499.500000</td>\n",
       "      <td>1.577683e+05</td>\n",
       "      <td>0.0</td>\n",
       "      <td>3.069706e+09</td>\n",
       "      <td>18183.900070</td>\n",
       "      <td>0.0</td>\n",
       "      <td>0.0</td>\n",
       "      <td>0.0</td>\n",
       "      <td>15312.739510</td>\n",
       "      <td>0.0</td>\n",
       "      <td>...</td>\n",
       "      <td>32.991160</td>\n",
       "      <td>2.053130</td>\n",
       "      <td>117.920240</td>\n",
       "      <td>1.109190</td>\n",
       "      <td>3.204448e+09</td>\n",
       "      <td>385415.451970</td>\n",
       "      <td>4.059310</td>\n",
       "      <td>1.66142</td>\n",
       "      <td>0.0</td>\n",
       "      <td>0.0</td>\n",
       "    </tr>\n",
       "    <tr>\n",
       "      <th>std</th>\n",
       "      <td>288.676434</td>\n",
       "      <td>9.361726e+05</td>\n",
       "      <td>0.0</td>\n",
       "      <td>2.963061e+05</td>\n",
       "      <td>4609.792765</td>\n",
       "      <td>0.0</td>\n",
       "      <td>0.0</td>\n",
       "      <td>0.0</td>\n",
       "      <td>3256.475008</td>\n",
       "      <td>0.0</td>\n",
       "      <td>...</td>\n",
       "      <td>52.730176</td>\n",
       "      <td>13.881382</td>\n",
       "      <td>3.116892</td>\n",
       "      <td>2.160466</td>\n",
       "      <td>0.000000e+00</td>\n",
       "      <td>10144.036494</td>\n",
       "      <td>0.822848</td>\n",
       "      <td>3.26304</td>\n",
       "      <td>0.0</td>\n",
       "      <td>0.0</td>\n",
       "    </tr>\n",
       "    <tr>\n",
       "      <th>min</th>\n",
       "      <td>0.000000</td>\n",
       "      <td>0.000000e+00</td>\n",
       "      <td>0.0</td>\n",
       "      <td>3.069190e+09</td>\n",
       "      <td>13988.000000</td>\n",
       "      <td>0.0</td>\n",
       "      <td>0.0</td>\n",
       "      <td>0.0</td>\n",
       "      <td>9695.000000</td>\n",
       "      <td>0.0</td>\n",
       "      <td>...</td>\n",
       "      <td>0.000000</td>\n",
       "      <td>0.000000</td>\n",
       "      <td>112.000000</td>\n",
       "      <td>0.000000</td>\n",
       "      <td>3.204448e+09</td>\n",
       "      <td>371782.000000</td>\n",
       "      <td>3.000000</td>\n",
       "      <td>0.00000</td>\n",
       "      <td>0.0</td>\n",
       "      <td>0.0</td>\n",
       "    </tr>\n",
       "    <tr>\n",
       "      <th>25%</th>\n",
       "      <td>249.750000</td>\n",
       "      <td>0.000000e+00</td>\n",
       "      <td>0.0</td>\n",
       "      <td>3.069446e+09</td>\n",
       "      <td>14352.000000</td>\n",
       "      <td>0.0</td>\n",
       "      <td>0.0</td>\n",
       "      <td>0.0</td>\n",
       "      <td>12648.000000</td>\n",
       "      <td>0.0</td>\n",
       "      <td>...</td>\n",
       "      <td>1.000000</td>\n",
       "      <td>0.000000</td>\n",
       "      <td>114.000000</td>\n",
       "      <td>0.000000</td>\n",
       "      <td>3.204448e+09</td>\n",
       "      <td>378208.000000</td>\n",
       "      <td>3.000000</td>\n",
       "      <td>0.00000</td>\n",
       "      <td>0.0</td>\n",
       "      <td>0.0</td>\n",
       "    </tr>\n",
       "    <tr>\n",
       "      <th>50%</th>\n",
       "      <td>499.500000</td>\n",
       "      <td>0.000000e+00</td>\n",
       "      <td>0.0</td>\n",
       "      <td>3.069698e+09</td>\n",
       "      <td>16159.000000</td>\n",
       "      <td>0.0</td>\n",
       "      <td>0.0</td>\n",
       "      <td>0.0</td>\n",
       "      <td>15245.000000</td>\n",
       "      <td>0.0</td>\n",
       "      <td>...</td>\n",
       "      <td>9.000000</td>\n",
       "      <td>1.000000</td>\n",
       "      <td>120.000000</td>\n",
       "      <td>0.000000</td>\n",
       "      <td>3.204448e+09</td>\n",
       "      <td>383637.000000</td>\n",
       "      <td>4.000000</td>\n",
       "      <td>0.00000</td>\n",
       "      <td>0.0</td>\n",
       "      <td>0.0</td>\n",
       "    </tr>\n",
       "    <tr>\n",
       "      <th>75%</th>\n",
       "      <td>749.250000</td>\n",
       "      <td>4.096000e+03</td>\n",
       "      <td>0.0</td>\n",
       "      <td>3.069957e+09</td>\n",
       "      <td>22182.000000</td>\n",
       "      <td>0.0</td>\n",
       "      <td>0.0</td>\n",
       "      <td>0.0</td>\n",
       "      <td>17663.000000</td>\n",
       "      <td>0.0</td>\n",
       "      <td>...</td>\n",
       "      <td>46.000000</td>\n",
       "      <td>1.000000</td>\n",
       "      <td>120.000000</td>\n",
       "      <td>1.000000</td>\n",
       "      <td>3.204448e+09</td>\n",
       "      <td>390324.000000</td>\n",
       "      <td>5.000000</td>\n",
       "      <td>1.00000</td>\n",
       "      <td>0.0</td>\n",
       "      <td>0.0</td>\n",
       "    </tr>\n",
       "    <tr>\n",
       "      <th>max</th>\n",
       "      <td>999.000000</td>\n",
       "      <td>4.326605e+07</td>\n",
       "      <td>0.0</td>\n",
       "      <td>3.070222e+09</td>\n",
       "      <td>31855.000000</td>\n",
       "      <td>0.0</td>\n",
       "      <td>0.0</td>\n",
       "      <td>0.0</td>\n",
       "      <td>27157.000000</td>\n",
       "      <td>0.0</td>\n",
       "      <td>...</td>\n",
       "      <td>365.000000</td>\n",
       "      <td>256.000000</td>\n",
       "      <td>120.000000</td>\n",
       "      <td>18.000000</td>\n",
       "      <td>3.204448e+09</td>\n",
       "      <td>421913.000000</td>\n",
       "      <td>7.000000</td>\n",
       "      <td>15.00000</td>\n",
       "      <td>0.0</td>\n",
       "      <td>0.0</td>\n",
       "    </tr>\n",
       "  </tbody>\n",
       "</table>\n",
       "<p>8 rows × 33 columns</p>\n",
       "</div>\n",
       "      <button class=\"colab-df-convert\" onclick=\"convertToInteractive('df-698302fb-5fbc-4a01-a649-d8927cbaabda')\"\n",
       "              title=\"Convert this dataframe to an interactive table.\"\n",
       "              style=\"display:none;\">\n",
       "        \n",
       "  <svg xmlns=\"http://www.w3.org/2000/svg\" height=\"24px\"viewBox=\"0 0 24 24\"\n",
       "       width=\"24px\">\n",
       "    <path d=\"M0 0h24v24H0V0z\" fill=\"none\"/>\n",
       "    <path d=\"M18.56 5.44l.94 2.06.94-2.06 2.06-.94-2.06-.94-.94-2.06-.94 2.06-2.06.94zm-11 1L8.5 8.5l.94-2.06 2.06-.94-2.06-.94L8.5 2.5l-.94 2.06-2.06.94zm10 10l.94 2.06.94-2.06 2.06-.94-2.06-.94-.94-2.06-.94 2.06-2.06.94z\"/><path d=\"M17.41 7.96l-1.37-1.37c-.4-.4-.92-.59-1.43-.59-.52 0-1.04.2-1.43.59L10.3 9.45l-7.72 7.72c-.78.78-.78 2.05 0 2.83L4 21.41c.39.39.9.59 1.41.59.51 0 1.02-.2 1.41-.59l7.78-7.78 2.81-2.81c.8-.78.8-2.07 0-2.86zM5.41 20L4 18.59l7.72-7.72 1.47 1.35L5.41 20z\"/>\n",
       "  </svg>\n",
       "      </button>\n",
       "      \n",
       "  <style>\n",
       "    .colab-df-container {\n",
       "      display:flex;\n",
       "      flex-wrap:wrap;\n",
       "      gap: 12px;\n",
       "    }\n",
       "\n",
       "    .colab-df-convert {\n",
       "      background-color: #E8F0FE;\n",
       "      border: none;\n",
       "      border-radius: 50%;\n",
       "      cursor: pointer;\n",
       "      display: none;\n",
       "      fill: #1967D2;\n",
       "      height: 32px;\n",
       "      padding: 0 0 0 0;\n",
       "      width: 32px;\n",
       "    }\n",
       "\n",
       "    .colab-df-convert:hover {\n",
       "      background-color: #E2EBFA;\n",
       "      box-shadow: 0px 1px 2px rgba(60, 64, 67, 0.3), 0px 1px 3px 1px rgba(60, 64, 67, 0.15);\n",
       "      fill: #174EA6;\n",
       "    }\n",
       "\n",
       "    [theme=dark] .colab-df-convert {\n",
       "      background-color: #3B4455;\n",
       "      fill: #D2E3FC;\n",
       "    }\n",
       "\n",
       "    [theme=dark] .colab-df-convert:hover {\n",
       "      background-color: #434B5C;\n",
       "      box-shadow: 0px 1px 3px 1px rgba(0, 0, 0, 0.15);\n",
       "      filter: drop-shadow(0px 1px 2px rgba(0, 0, 0, 0.3));\n",
       "      fill: #FFFFFF;\n",
       "    }\n",
       "  </style>\n",
       "\n",
       "      <script>\n",
       "        const buttonEl =\n",
       "          document.querySelector('#df-698302fb-5fbc-4a01-a649-d8927cbaabda button.colab-df-convert');\n",
       "        buttonEl.style.display =\n",
       "          google.colab.kernel.accessAllowed ? 'block' : 'none';\n",
       "\n",
       "        async function convertToInteractive(key) {\n",
       "          const element = document.querySelector('#df-698302fb-5fbc-4a01-a649-d8927cbaabda');\n",
       "          const dataTable =\n",
       "            await google.colab.kernel.invokeFunction('convertToInteractive',\n",
       "                                                     [key], {});\n",
       "          if (!dataTable) return;\n",
       "\n",
       "          const docLinkHtml = 'Like what you see? Visit the ' +\n",
       "            '<a target=\"_blank\" href=https://colab.research.google.com/notebooks/data_table.ipynb>data table notebook</a>'\n",
       "            + ' to learn more about interactive tables.';\n",
       "          element.innerHTML = '';\n",
       "          dataTable['output_type'] = 'display_data';\n",
       "          await google.colab.output.renderOutput(dataTable, element);\n",
       "          const docLink = document.createElement('div');\n",
       "          docLink.innerHTML = docLinkHtml;\n",
       "          element.appendChild(docLink);\n",
       "        }\n",
       "      </script>\n",
       "    </div>\n",
       "  </div>\n",
       "  "
      ],
      "text/plain": [
       "         millisecond         state  usage_counter          prio  \\\n",
       "count  100000.000000  1.000000e+05       100000.0  1.000000e+05   \n",
       "mean      499.500000  1.577683e+05            0.0  3.069706e+09   \n",
       "std       288.676434  9.361726e+05            0.0  2.963061e+05   \n",
       "min         0.000000  0.000000e+00            0.0  3.069190e+09   \n",
       "25%       249.750000  0.000000e+00            0.0  3.069446e+09   \n",
       "50%       499.500000  0.000000e+00            0.0  3.069698e+09   \n",
       "75%       749.250000  4.096000e+03            0.0  3.069957e+09   \n",
       "max       999.000000  4.326605e+07            0.0  3.070222e+09   \n",
       "\n",
       "         static_prio  normal_prio    policy  vm_pgoff  vm_truncate_count  \\\n",
       "count  100000.000000     100000.0  100000.0  100000.0      100000.000000   \n",
       "mean    18183.900070          0.0       0.0       0.0       15312.739510   \n",
       "std      4609.792765          0.0       0.0       0.0        3256.475008   \n",
       "min     13988.000000          0.0       0.0       0.0        9695.000000   \n",
       "25%     14352.000000          0.0       0.0       0.0       12648.000000   \n",
       "50%     16159.000000          0.0       0.0       0.0       15245.000000   \n",
       "75%     22182.000000          0.0       0.0       0.0       17663.000000   \n",
       "max     31855.000000          0.0       0.0       0.0       27157.000000   \n",
       "\n",
       "       task_size  ...         nivcsw        min_flt        maj_flt  \\\n",
       "count   100000.0  ...  100000.000000  100000.000000  100000.000000   \n",
       "mean         0.0  ...      32.991160       2.053130     117.920240   \n",
       "std          0.0  ...      52.730176      13.881382       3.116892   \n",
       "min          0.0  ...       0.000000       0.000000     112.000000   \n",
       "25%          0.0  ...       1.000000       0.000000     114.000000   \n",
       "50%          0.0  ...       9.000000       1.000000     120.000000   \n",
       "75%          0.0  ...      46.000000       1.000000     120.000000   \n",
       "max          0.0  ...     365.000000     256.000000     120.000000   \n",
       "\n",
       "       fs_excl_counter          lock          utime          stime  \\\n",
       "count    100000.000000  1.000000e+05  100000.000000  100000.000000   \n",
       "mean          1.109190  3.204448e+09  385415.451970       4.059310   \n",
       "std           2.160466  0.000000e+00   10144.036494       0.822848   \n",
       "min           0.000000  3.204448e+09  371782.000000       3.000000   \n",
       "25%           0.000000  3.204448e+09  378208.000000       3.000000   \n",
       "50%           0.000000  3.204448e+09  383637.000000       4.000000   \n",
       "75%           1.000000  3.204448e+09  390324.000000       5.000000   \n",
       "max          18.000000  3.204448e+09  421913.000000       7.000000   \n",
       "\n",
       "              gtime    cgtime  signal_nvcsw  \n",
       "count  100000.00000  100000.0      100000.0  \n",
       "mean        1.66142       0.0           0.0  \n",
       "std         3.26304       0.0           0.0  \n",
       "min         0.00000       0.0           0.0  \n",
       "25%         0.00000       0.0           0.0  \n",
       "50%         0.00000       0.0           0.0  \n",
       "75%         1.00000       0.0           0.0  \n",
       "max        15.00000       0.0           0.0  \n",
       "\n",
       "[8 rows x 33 columns]"
      ]
     },
     "execution_count": 28,
     "metadata": {},
     "output_type": "execute_result"
    }
   ],
   "source": [
    "dataset.describe()"
   ]
  },
  {
   "cell_type": "code",
   "execution_count": 29,
   "metadata": {
    "colab": {
     "base_uri": "https://localhost:8080/"
    },
    "id": "aNUmwFeQxqDl",
    "outputId": "7cc50b17-dcc0-4787-f868-bee081c88064"
   },
   "outputs": [
    {
     "data": {
      "text/plain": [
       "hash                 0\n",
       "millisecond          0\n",
       "classification       0\n",
       "state                0\n",
       "usage_counter        0\n",
       "prio                 0\n",
       "static_prio          0\n",
       "normal_prio          0\n",
       "policy               0\n",
       "vm_pgoff             0\n",
       "vm_truncate_count    0\n",
       "task_size            0\n",
       "cached_hole_size     0\n",
       "free_area_cache      0\n",
       "mm_users             0\n",
       "map_count            0\n",
       "hiwater_rss          0\n",
       "total_vm             0\n",
       "shared_vm            0\n",
       "exec_vm              0\n",
       "reserved_vm          0\n",
       "nr_ptes              0\n",
       "end_data             0\n",
       "last_interval        0\n",
       "nvcsw                0\n",
       "nivcsw               0\n",
       "min_flt              0\n",
       "maj_flt              0\n",
       "fs_excl_counter      0\n",
       "lock                 0\n",
       "utime                0\n",
       "stime                0\n",
       "gtime                0\n",
       "cgtime               0\n",
       "signal_nvcsw         0\n",
       "dtype: int64"
      ]
     },
     "execution_count": 29,
     "metadata": {},
     "output_type": "execute_result"
    }
   ],
   "source": [
    "dataset.isna().sum()"
   ]
  },
  {
   "cell_type": "markdown",
   "metadata": {
    "id": "V-vCCAe_x2_1"
   },
   "source": [
    "Label Encoding(Converting Categorical Data to Numbers So that can work on them. Here converting Malware and Bening)"
   ]
  },
  {
   "cell_type": "code",
   "execution_count": 30,
   "metadata": {
    "colab": {
     "base_uri": "https://localhost:8080/"
    },
    "id": "tpreJuRngnSs",
    "outputId": "3c35b233-ad98-4303-dda7-e20f3cbf6f5c"
   },
   "outputs": [
    {
     "name": "stdout",
     "output_type": "stream",
     "text": [
      "[1 1 1 ... 1 1 1]\n"
     ]
    }
   ],
   "source": [
    "from sklearn.preprocessing import LabelEncoder\n",
    "le = LabelEncoder()\n",
    "y = le.fit_transform(y)\n",
    "print (y)"
   ]
  },
  {
   "cell_type": "markdown",
   "metadata": {
    "id": "XPgpFBFPhLm7"
   },
   "source": [
    "Splitting the dataset into the Training set and Test set. (75% data is for traing and 25% Testing data)\n"
   ]
  },
  {
   "cell_type": "code",
   "execution_count": 31,
   "metadata": {
    "id": "yEo93TmVhfWr"
   },
   "outputs": [],
   "source": [
    "from sklearn.model_selection import train_test_split\n",
    "X_train, X_test, y_train, y_test = train_test_split(X, y, test_size = 0.25, random_state = 0)\n"
   ]
  },
  {
   "cell_type": "code",
   "execution_count": 32,
   "metadata": {
    "colab": {
     "base_uri": "https://localhost:8080/"
    },
    "id": "YAQwJY_QiGJz",
    "outputId": "9f187207-add5-4bad-8a97-9b945f55595b"
   },
   "outputs": [
    {
     "name": "stdout",
     "output_type": "stream",
     "text": [
      "[[  606 12288     0 ...    10     0     0]\n",
      " [  228 28672     0 ...     0     0     0]\n",
      " [  382  4096     0 ...     1     0     0]\n",
      " ...\n",
      " [  613 12288     0 ...    11     0     0]\n",
      " [  567  4096     0 ...     2     0     0]\n",
      " [  268     0     0 ...     0     0     0]]\n"
     ]
    }
   ],
   "source": [
    "print(X_train)"
   ]
  },
  {
   "cell_type": "code",
   "execution_count": 33,
   "metadata": {
    "colab": {
     "base_uri": "https://localhost:8080/"
    },
    "id": "VPxRDARQiSiV",
    "outputId": "ea55becb-080d-4cdb-d657-5a003e5d8201"
   },
   "outputs": [
    {
     "name": "stdout",
     "output_type": "stream",
     "text": [
      "[0 1 0 ... 0 0 1]\n"
     ]
    }
   ],
   "source": [
    "print(y_train)"
   ]
  },
  {
   "cell_type": "code",
   "execution_count": 34,
   "metadata": {
    "colab": {
     "base_uri": "https://localhost:8080/"
    },
    "id": "SU9AGuXmiWVY",
    "outputId": "cc835bbb-9406-48d0-c29f-43077f5697d8"
   },
   "outputs": [
    {
     "name": "stdout",
     "output_type": "stream",
     "text": [
      "[[    582       0       0 ...       8       0       0]\n",
      " [    498       0       0 ...       0       0       0]\n",
      " [    227 1028096       0 ...       4       0       0]\n",
      " ...\n",
      " [    585    4096       0 ...       0       0       0]\n",
      " [    519       0       0 ...       7       0       0]\n",
      " [    831       0       0 ...       0       0       0]]\n"
     ]
    }
   ],
   "source": [
    "print(X_test)"
   ]
  },
  {
   "cell_type": "code",
   "execution_count": 35,
   "metadata": {
    "colab": {
     "base_uri": "https://localhost:8080/"
    },
    "id": "b_y-ZHimicVk",
    "outputId": "638e19bd-036f-4a32-a37e-b9b58cf9a0d1"
   },
   "outputs": [
    {
     "name": "stdout",
     "output_type": "stream",
     "text": [
      "[1 0 0 ... 1 0 0]\n"
     ]
    }
   ],
   "source": [
    "print(y_test)"
   ]
  },
  {
   "cell_type": "markdown",
   "metadata": {
    "id": "vCOgtHGgjGfj"
   },
   "source": [
    "Feature Scaling (Scaling down the data using funtcion StandardScaler())\n",
    "19BCE0486"
   ]
  },
  {
   "cell_type": "code",
   "execution_count": 36,
   "metadata": {
    "id": "AqTzkp5MjYS0"
   },
   "outputs": [],
   "source": [
    "from sklearn.preprocessing import StandardScaler\n",
    "sc = StandardScaler()\n",
    "X_train = sc.fit_transform(X_train)\n",
    "X_test = sc.transform(X_test)"
   ]
  },
  {
   "cell_type": "markdown",
   "metadata": {
    "id": "VmoTPdY4jjlE"
   },
   "source": [
    "X_train after scaling down\n"
   ]
  },
  {
   "cell_type": "code",
   "execution_count": 37,
   "metadata": {
    "colab": {
     "base_uri": "https://localhost:8080/"
    },
    "id": "oArrt6u1jp2o",
    "outputId": "c575c0f2-6f54-4a47-c303-03632c6eadaf"
   },
   "outputs": [
    {
     "name": "stdout",
     "output_type": "stream",
     "text": [
      "[[ 0.36731703 -0.15969785  0.         ...  2.5559669   0.\n",
      "   0.        ]\n",
      " [-0.941068   -0.14179605  0.         ... -0.50896701  0.\n",
      "   0.        ]\n",
      " [-0.40802225 -0.16864875  0.         ... -0.20247362  0.\n",
      "   0.        ]\n",
      " ...\n",
      " [ 0.39154638 -0.15969785  0.         ...  2.8624603   0.\n",
      "   0.        ]\n",
      " [ 0.23232492 -0.16864875  0.         ...  0.10401977  0.\n",
      "   0.        ]\n",
      " [-0.80261455 -0.1731242   0.         ... -0.50896701  0.\n",
      "   0.        ]]\n"
     ]
    }
   ],
   "source": [
    "print(X_train)"
   ]
  },
  {
   "cell_type": "markdown",
   "metadata": {
    "id": "K0Bjn4aJj5XU"
   },
   "source": [
    "X_test after scaling\n"
   ]
  },
  {
   "cell_type": "code",
   "execution_count": 38,
   "metadata": {
    "colab": {
     "base_uri": "https://localhost:8080/"
    },
    "id": "jSnXc4STkAMP",
    "outputId": "a57015b7-bf88-491f-f088-256d32728136"
   },
   "outputs": [
    {
     "name": "stdout",
     "output_type": "stream",
     "text": [
      "[[ 0.28424496 -0.1731242   0.         ...  1.94298012  0.\n",
      "   0.        ]\n",
      " [-0.00650727 -0.1731242   0.         ... -0.50896701  0.\n",
      "   0.        ]\n",
      " [-0.94452933  0.95021383  0.         ...  0.71700655  0.\n",
      "   0.        ]\n",
      " ...\n",
      " [ 0.29462897 -0.16864875  0.         ... -0.50896701  0.\n",
      "   0.        ]\n",
      " [ 0.06618079 -0.1731242   0.         ...  1.63648673  0.\n",
      "   0.        ]\n",
      " [ 1.14611763 -0.1731242   0.         ... -0.50896701  0.\n",
      "   0.        ]]\n"
     ]
    }
   ],
   "source": [
    "print(X_test)"
   ]
  },
  {
   "cell_type": "markdown",
   "metadata": {
    "id": "1-9EIxoYkXdD"
   },
   "source": [
    "Training Model on the Training set(That is traing the Model on 75% of the data set malware detection)\n"
   ]
  },
  {
   "cell_type": "markdown",
   "metadata": {
    "id": "ezJzqWoqkx_M"
   },
   "source": [
    "Using Logisticregression Traing my model.\n"
   ]
  },
  {
   "cell_type": "code",
   "execution_count": 39,
   "metadata": {
    "colab": {
     "base_uri": "https://localhost:8080/"
    },
    "id": "8Svv9jMVkmVO",
    "outputId": "410a3c92-880d-4ba6-cceb-948f03310107"
   },
   "outputs": [
    {
     "data": {
      "text/plain": [
       "LogisticRegression(random_state=0)"
      ]
     },
     "execution_count": 39,
     "metadata": {},
     "output_type": "execute_result"
    }
   ],
   "source": [
    "from sklearn.linear_model import LogisticRegression\n",
    "classifier = LogisticRegression(random_state = 0)\n",
    "classifier.fit(X_train, y_train)"
   ]
  },
  {
   "cell_type": "markdown",
   "metadata": {
    "id": "byhmdMF4lagc"
   },
   "source": [
    "Predicting the Test set results(Prediction of the trained model on the 25% test data)"
   ]
  },
  {
   "cell_type": "code",
   "execution_count": 40,
   "metadata": {
    "colab": {
     "base_uri": "https://localhost:8080/"
    },
    "id": "f6WqEvcElHzW",
    "outputId": "0baecd65-4caa-43a5-aa63-45d883267929"
   },
   "outputs": [
    {
     "name": "stdout",
     "output_type": "stream",
     "text": [
      "[[1 1]\n",
      " [0 0]\n",
      " [0 0]\n",
      " ...\n",
      " [1 1]\n",
      " [0 0]\n",
      " [0 0]]\n"
     ]
    }
   ],
   "source": [
    "y_pred = classifier.predict(X_test)\n",
    "print(np.concatenate((y_pred.reshape(len(y_pred),1), y_test.reshape(len(y_test),1)),1))"
   ]
  },
  {
   "cell_type": "markdown",
   "metadata": {
    "id": "66Bi9F3Yl3Ad"
   },
   "source": [
    "Confusion Matrix and Accuracy(Finding out the accuracy of the model using confusion matrix)\n"
   ]
  },
  {
   "cell_type": "code",
   "execution_count": 41,
   "metadata": {
    "colab": {
     "base_uri": "https://localhost:8080/"
    },
    "id": "EjULzc_CmAHM",
    "outputId": "20db9a30-59ed-4c44-cf9e-62797fdc2b5c"
   },
   "outputs": [
    {
     "name": "stdout",
     "output_type": "stream",
     "text": [
      "Confusion Matrix\n",
      " [[11590   938]\n",
      " [  560 11912]]\n"
     ]
    }
   ],
   "source": [
    "from sklearn.metrics import confusion_matrix, accuracy_score\n",
    "cm = confusion_matrix(y_test, y_pred)\n",
    "print(\"Confusion Matrix\\n\",cm)"
   ]
  },
  {
   "cell_type": "markdown",
   "metadata": {
    "id": "mdiAUdENRc39"
   },
   "source": [
    "Final Result (Logisticregression)\n",
    "Accuracy , Precession, Recal\n"
   ]
  },
  {
   "cell_type": "code",
   "execution_count": 47,
   "metadata": {
    "colab": {
     "base_uri": "https://localhost:8080/"
    },
    "id": "A4rF_JXhSQ7Z",
    "outputId": "ad7e7a50-f0c5-45d6-b3f7-b468c58e7dbc"
   },
   "outputs": [
    {
     "name": "stdout",
     "output_type": "stream",
     "text": [
      "Final Results\n",
      "Logisticregression Malware Data set\n",
      "Accuracy: 0.94008\n",
      "Precision 0.9270038910505837\n",
      "Recall: 0.9550994227068633\n"
     ]
    }
   ],
   "source": [
    "from sklearn import metrics\n",
    "print(\"Final Results\")\n",
    "print(\"Logisticregression Malware Data set\")\n",
    "print(\"Accuracy:\",metrics.accuracy_score(y_test,y_pred))\n",
    "print(\"Precision\",metrics.precision_score(y_test,y_pred))\n",
    "print(\"Recall:\",metrics.recall_score(y_test,y_pred))"
   ]
  },
  {
   "cell_type": "markdown",
   "metadata": {
    "id": "ePPJh7wjzdug"
   },
   "source": [
    "ROC Curve"
   ]
  },
  {
   "cell_type": "code",
   "execution_count": 46,
   "metadata": {
    "colab": {
     "base_uri": "https://localhost:8080/",
     "height": 295
    },
    "id": "qxGa-_sky1Fx",
    "outputId": "6177bbc5-bc61-4ff4-a573-8079e1ead1e5"
   },
   "outputs": [
    {
     "data": {
      "image/png": "[encoded data removed]",
      "text/plain": [
       "<Figure size 432x288 with 1 Axes>"
      ]
     },
     "metadata": {
      "needs_background": "light"
     },
     "output_type": "display_data"
    }
   ],
   "source": [
    "from sklearn.metrics import roc_auc_score\n",
    "from sklearn.metrics import roc_curve\n",
    "logit_roc_auc = roc_auc_score(y_test, y_pred)\n",
    "fpr, tpr, thresholds = roc_curve(y_test,y_pred)\n",
    "plt.figure()\n",
    "plt.plot(fpr, tpr, label='Logistic Regression (area = %0.2f)' % logit_roc_auc)\n",
    "plt.plot([0, 1], [0, 1],'r--')\n",
    "plt.xlim([0.0, 1.0])\n",
    "plt.ylim([0.0, 1.05])\n",
    "plt.xlabel('False Positive Rate')\n",
    "plt.ylabel('True Positive Rate')\n",
    "plt.title('Receiver operating characteristic')\n",
    "plt.legend(loc=\"lower right\")\n",
    "plt.savefig('Log_ROC')\n",
    "plt.show()"
   ]
  }
 ],
 "metadata": {
  "colab": {
   "collapsed_sections": [],
   "name": " Logisticregression.ipynb",
   "provenance": []
  },
  "kernelspec": {
   "display_name": "Python 3",
   "name": "python3"
  },
  "language_info": {
   "name": "python"
  }
 },
 "nbformat": 4,
 "nbformat_minor": 0
}
