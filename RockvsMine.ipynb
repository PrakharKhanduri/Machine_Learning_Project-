{
  "nbformat": 4,
  "nbformat_minor": 0,
  "metadata": {
    "colab": {
      "name": "RockvsMine(logregression).ipynb",
      "provenance": [],
      "collapsed_sections": [
        "Mfy7PQxUI6lI",
        "DCW49EYaJE_G",
        "UPFzxYhGJZSi",
        "aKEV8ErmIZBM",
        "-OgK3r8WF8AG",
        "kYrdyenJGS5t",
        "cPUFA3ZPOBAF",
        "6TUYd3COU2GV"
      ]
    },
    "kernelspec": {
      "name": "python3",
      "display_name": "Python 3"
    },
    "language_info": {
      "name": "python"
    }
  },
  "cells": [
    {
      "cell_type": "markdown",
      "source": [
        ""
      ],
      "metadata": {
        "id": "bWa4CtEVp6Pr"
      }
    },
    {
      "cell_type": "code",
      "execution_count": null,
      "metadata": {
        "id": "yaR5WdgdgJE-"
      },
      "outputs": [],
      "source": [
        "import pandas as pd\n",
        "import numpy as np\n",
        "import matplotlib.pyplot as plt\n",
        "from sklearn.model_selection import train_test_split\n",
        "from sklearn.neighbors import KNeighborsClassifier\n",
        "from sklearn.metrics import accuracy_score\n"
      ]
    },
    {
      "cell_type": "markdown",
      "source": [
        "#Some graph using matplotlib.pyplot as plt"
      ],
      "metadata": {
        "id": "UPFzxYhGJZSi"
      }
    },
    {
      "cell_type": "code",
      "source": [
        "xpoints=np.arange(0,208)\n",
        "print(xpoints)\n",
        "\n"
      ],
      "metadata": {
        "colab": {
          "base_uri": "https://localhost:8080/"
        },
        "id": "TJ46FCdetbed",
        "outputId": "3be96b0c-2287-4da4-a01a-62d073a98124"
      },
      "execution_count": null,
      "outputs": [
        {
          "output_type": "stream",
          "name": "stdout",
          "text": [
            "[  0   1   2   3   4   5   6   7   8   9  10  11  12  13  14  15  16  17\n",
            "  18  19  20  21  22  23  24  25  26  27  28  29  30  31  32  33  34  35\n",
            "  36  37  38  39  40  41  42  43  44  45  46  47  48  49  50  51  52  53\n",
            "  54  55  56  57  58  59  60  61  62  63  64  65  66  67  68  69  70  71\n",
            "  72  73  74  75  76  77  78  79  80  81  82  83  84  85  86  87  88  89\n",
            "  90  91  92  93  94  95  96  97  98  99 100 101 102 103 104 105 106 107\n",
            " 108 109 110 111 112 113 114 115 116 117 118 119 120 121 122 123 124 125\n",
            " 126 127 128 129 130 131 132 133 134 135 136 137 138 139 140 141 142 143\n",
            " 144 145 146 147 148 149 150 151 152 153 154 155 156 157 158 159 160 161\n",
            " 162 163 164 165 166 167 168 169 170 171 172 173 174 175 176 177 178 179\n",
            " 180 181 182 183 184 185 186 187 188 189 190 191 192 193 194 195 196 197\n",
            " 198 199 200 201 202 203 204 205 206 207]\n"
          ]
        }
      ]
    },
    {
      "cell_type": "code",
      "source": [
        "import matplotlib.pyplot as plt\n",
        "xpoints=np.arange(0,208)\n",
        "y=df.iloc[0:208,0]\n",
        "ypoints=y.values.reshape(-1,1)\n",
        "plt.plot(xpoints,ypoints)\n",
        "plt.show()"
      ],
      "metadata": {
        "colab": {
          "base_uri": "https://localhost:8080/",
          "height": 245
        },
        "id": "qGaVo8nprFen",
        "outputId": "b68e9aef-e682-48b2-8436-388e0656713f"
      },
      "execution_count": null,
      "outputs": [
        {
          "output_type": "error",
          "ename": "NameError",
          "evalue": "ignored",
          "traceback": [
            "\u001b[0;31m---------------------------------------------------------------------------\u001b[0m",
            "\u001b[0;31mNameError\u001b[0m                                 Traceback (most recent call last)",
            "\u001b[0;32m<ipython-input-5-ccd15cec1001>\u001b[0m in \u001b[0;36m<module>\u001b[0;34m()\u001b[0m\n\u001b[1;32m      1\u001b[0m \u001b[0;32mimport\u001b[0m \u001b[0mmatplotlib\u001b[0m\u001b[0;34m.\u001b[0m\u001b[0mpyplot\u001b[0m \u001b[0;32mas\u001b[0m \u001b[0mplt\u001b[0m\u001b[0;34m\u001b[0m\u001b[0;34m\u001b[0m\u001b[0m\n\u001b[1;32m      2\u001b[0m \u001b[0mxpoints\u001b[0m\u001b[0;34m=\u001b[0m\u001b[0mnp\u001b[0m\u001b[0;34m.\u001b[0m\u001b[0marange\u001b[0m\u001b[0;34m(\u001b[0m\u001b[0;36m0\u001b[0m\u001b[0;34m,\u001b[0m\u001b[0;36m208\u001b[0m\u001b[0;34m)\u001b[0m\u001b[0;34m\u001b[0m\u001b[0;34m\u001b[0m\u001b[0m\n\u001b[0;32m----> 3\u001b[0;31m \u001b[0my\u001b[0m\u001b[0;34m=\u001b[0m\u001b[0mdf\u001b[0m\u001b[0;34m.\u001b[0m\u001b[0miloc\u001b[0m\u001b[0;34m[\u001b[0m\u001b[0;36m0\u001b[0m\u001b[0;34m:\u001b[0m\u001b[0;36m208\u001b[0m\u001b[0;34m,\u001b[0m\u001b[0;36m0\u001b[0m\u001b[0;34m]\u001b[0m\u001b[0;34m\u001b[0m\u001b[0;34m\u001b[0m\u001b[0m\n\u001b[0m\u001b[1;32m      4\u001b[0m \u001b[0mypoints\u001b[0m\u001b[0;34m=\u001b[0m\u001b[0my\u001b[0m\u001b[0;34m.\u001b[0m\u001b[0mvalues\u001b[0m\u001b[0;34m.\u001b[0m\u001b[0mreshape\u001b[0m\u001b[0;34m(\u001b[0m\u001b[0;34m-\u001b[0m\u001b[0;36m1\u001b[0m\u001b[0;34m,\u001b[0m\u001b[0;36m1\u001b[0m\u001b[0;34m)\u001b[0m\u001b[0;34m\u001b[0m\u001b[0;34m\u001b[0m\u001b[0m\n\u001b[1;32m      5\u001b[0m \u001b[0mplt\u001b[0m\u001b[0;34m.\u001b[0m\u001b[0mplot\u001b[0m\u001b[0;34m(\u001b[0m\u001b[0mxpoints\u001b[0m\u001b[0;34m,\u001b[0m\u001b[0mypoints\u001b[0m\u001b[0;34m)\u001b[0m\u001b[0;34m\u001b[0m\u001b[0;34m\u001b[0m\u001b[0m\n",
            "\u001b[0;31mNameError\u001b[0m: name 'df' is not defined"
          ]
        }
      ]
    },
    {
      "cell_type": "code",
      "source": [
        "import matplotlib.pyplot as plt\n",
        "x0=df.iloc[0:208,3]\n",
        "y59=df.iloc[0:208,60]\n",
        "plt.scatter(y59,x0,)\n",
        "plt.show()\n"
      ],
      "metadata": {
        "id": "A_yq77Byya1q"
      },
      "execution_count": null,
      "outputs": []
    },
    {
      "cell_type": "code",
      "source": [
        "import matplotlib.pyplot as plt\n",
        "y=df.mean()\n",
        "x=np.arange(0,60)\n",
        "plt.plot(x,y,\"o\")\n",
        "plt.plot(x,y)\n",
        "plt.show()"
      ],
      "metadata": {
        "id": "z8atvgvx2kqh"
      },
      "execution_count": null,
      "outputs": []
    },
    {
      "cell_type": "code",
      "source": [
        "import matplotlib.pyplot as plt\n",
        "y1=df.median()\n",
        "x=np.arange(0,60)\n",
        "plt.plot(x,y,y1)\n",
        "plt.show"
      ],
      "metadata": {
        "id": "YTKJGqCL5lNP"
      },
      "execution_count": null,
      "outputs": []
    },
    {
      "cell_type": "code",
      "source": [
        "import matplotlib.pyplot as plt\n",
        "mse=(y-y1)**2 #(mean - median)^2\n",
        "x=np.arange(0,60)\n",
        "plt.plot(x,mse,\"o\")\n",
        "plt.show"
      ],
      "metadata": {
        "id": "37Y4U5ee_TCU"
      },
      "execution_count": null,
      "outputs": []
    },
    {
      "cell_type": "code",
      "source": [
        "y.describe() #mean values describe"
      ],
      "metadata": {
        "id": "eSPu9Q9zKtP9"
      },
      "execution_count": null,
      "outputs": []
    },
    {
      "cell_type": "code",
      "source": [
        "a=df.groupby(60).mean()# difference is quite significant that is nice\n",
        "print(a)"
      ],
      "metadata": {
        "id": "89uv1MbeLjN1"
      },
      "execution_count": null,
      "outputs": []
    },
    {
      "cell_type": "markdown",
      "source": [
        "#Extracting lables then spliting into test and train "
      ],
      "metadata": {
        "id": "aKEV8ErmIZBM"
      }
    },
    {
      "cell_type": "code",
      "source": [
        "#seperating the lable and the features\n",
        "X=df.drop(columns=60,axis=1,inplace=False)# inplace= True means that it will replace the original dataset\n",
        "Y=df[60]\n",
        "print(X)#Freatures\n",
        "print(Y)#lable"
      ],
      "metadata": {
        "id": "Tk_uKoyRN0ED"
      },
      "execution_count": null,
      "outputs": []
    },
    {
      "cell_type": "code",
      "source": [
        "#splitting into traiing and test data\n",
        "from sklearn.model_selection import train_test_split\n",
        "X_train,X_test,Y_train,Y_test= train_test_split(X,Y,test_size=0.1,stratify=Y,random_state=1)\n",
        "print(X_train.shape)\n",
        "print(X_test.shape)\n",
        "print(Y_train)\n"
      ],
      "metadata": {
        "id": "sw-wKbsHUF_y"
      },
      "execution_count": null,
      "outputs": []
    },
    {
      "cell_type": "markdown",
      "source": [
        "#logisticregressionmodel"
      ],
      "metadata": {
        "id": "-OgK3r8WF8AG"
      }
    },
    {
      "cell_type": "code",
      "source": [
        "from sklearn.linear_model import LogisticRegression# Fitting the model using logisticregression\n",
        "model=LogisticRegression()\n",
        "model.fit(X_train, Y_train)"
      ],
      "metadata": {
        "id": "GerlSnWvZO4d"
      },
      "execution_count": null,
      "outputs": []
    },
    {
      "cell_type": "code",
      "source": [
        "from sklearn.metrics import accuracy_score  #testing the model\n",
        "X_test_prediction= model.predict(X_test)\n",
        "testing_data_accuracy = accuracy_score(X_test_prediction,Y_test)\n",
        "print(testing_data_accuracy)\n",
        "\n"
      ],
      "metadata": {
        "id": "6uhrHUDQaS3M"
      },
      "execution_count": null,
      "outputs": []
    },
    {
      "cell_type": "code",
      "source": [
        "input_data = (0.0307,0.0523,0.0653,0.0521,0.0611,0.0577,0.0665,0.0664,0.1460,0.2792,0.3877,0.4992,0.4981,0.4972,0.5607,0.7339,0.8230,0.9173,0.9975,0.9911,0.8240,0.6498,0.5980,0.4862,0.3150,0.1543,0.0989,0.0284,0.1008,0.2636,0.2694,0.2930,0.2925,0.3998,0.3660,0.3172,0.4609,0.4374,0.1820,0.3376,0.6202,0.4448,0.1863,0.1420,0.0589,0.0576,0.0672,0.0269,0.0245,0.0190,0.0063,0.0321,0.0189,0.0137,0.0277,0.0152,0.0052,0.0121,0.0124,0.0055)\n",
        "new_predict=np.asarray(input_data)\n",
        "new_predict_reshape=new_predict.reshape(1,-1)\n",
        "prediction=model.predict(new_predict_reshape)\n",
        "print(prediction)\n",
        "if(prediction[0]==\"R\"):\n",
        "  print(\"Rock\")\n",
        "else:\n",
        "  print(\"Mine\")"
      ],
      "metadata": {
        "id": "X8WAGOIixmNJ"
      },
      "execution_count": null,
      "outputs": []
    },
    {
      "cell_type": "code",
      "source": [
        "input_data = (0.0307,0.0523,0.0653,0.0521,0.0611,0.0577,0.0665,0.0664,0.1460,0.2792,0.3877,0.4992,0.4981,0.4972,0.5607,0.7339,0.8230,0.9173,0.9975,0.9911,0.8240,0.6498,0.5980,0.4862,0.3150,0.1543,0.0989,0.0284,0.1008,0.2636,0.2694,0.2930,0.2925,0.3998,0.3660,0.3172,0.4609,0.4374,0.1820,0.3376,0.6202,0.4448,0.1863,0.1420,0.0589,0.0576,0.0672,0.0269,0.0245,0.0190,0.0063,0.0321,0.0189,0.0137,0.0277,0.0152,0.0052,0.0121,0.0124,0.0055)\n",
        "\n",
        "# changing the input_data to a numpy array\n",
        "input_data_as_numpy_array = np.asarray(input_data)\n",
        "\n",
        "# reshape the np array as we are predicting for one instance\n",
        "input_data_reshaped = input_data_as_numpy_array.reshape(1,-1)\n",
        "\n",
        "prediction = model.predict(input_data_reshaped)\n",
        "print(prediction)\n",
        "\n",
        "if (prediction[0]=='R'):\n",
        "  print('The object is a Rock')\n",
        "else:\n",
        "  print('The object is a mine')"
      ],
      "metadata": {
        "id": "tUE1HsQJBL3Q"
      },
      "execution_count": null,
      "outputs": []
    },
    {
      "cell_type": "markdown",
      "source": [
        "#KNN"
      ],
      "metadata": {
        "id": "kYrdyenJGS5t"
      }
    },
    {
      "cell_type": "code",
      "source": [
        "from sklearn.neighbors import KNeighborsClassifier # Fitting the model using KNN\n",
        "modelknn=KNeighborsClassifier() #defalut neibors = 5\n",
        "modelknn.fit(X_train,Y_train)\n",
        "\n"
      ],
      "metadata": {
        "id": "DmwXda2XCvq5"
      },
      "execution_count": null,
      "outputs": []
    },
    {
      "cell_type": "code",
      "source": [
        "from sklearn.metrics import accuracy_score\n",
        "XKNN_train_prediction=modelknn.predict(X_train)#testing the model on training data\n",
        "Xknn_train_accuracy=accuracy_score(XKNN_train_prediction,Y_train)\n",
        "print(Xknn_train_accuracy)"
      ],
      "metadata": {
        "id": "xD0TglYBFP6e"
      },
      "execution_count": null,
      "outputs": []
    },
    {
      "cell_type": "code",
      "source": [
        "from sklearn.metrics import accuracy_score\n",
        "XKNN_test_prediction=modelknn.predict(X_test)#testing the model on test data\n",
        "Xknn_test_accuracy=accuracy_score(XKNN_test_prediction,Y_test)\n",
        "print(Xknn_test_accuracy)\n"
      ],
      "metadata": {
        "id": "ZTGc2a3kEF5h"
      },
      "execution_count": null,
      "outputs": []
    },
    {
      "cell_type": "code",
      "source": [
        "input_data=(0.0307,0.0523,0.0653,0.0521,0.0611,0.0577,0.0665,0.0664,0.1460,0.2792,0.3877,0.4992,0.4981,0.4972,0.5607,0.7339,0.8230,0.9173,0.9975,0.9911,0.8240,0.6498,0.5980,0.4862,0.3150,0.1543,0.0989,0.0284,0.1008,0.2636,0.2694,0.2930,0.2925,0.3998,0.3660,0.3172,0.4609,0.4374,0.1820,0.3376,0.6202,0.4448,0.1863,0.1420,0.0589,0.0576,0.0672,0.0269,0.0245,0.0190,0.0063,0.0321,0.0189,0.0137,0.0277,0.0152,0.0052,0.0121,0.0124,0.0055)\n",
        "data_knn=np.asarray(input_data)\n",
        "reshape_data_knn=data_knn.reshape(1,-1)\n",
        "predict_knn_lable=modelknn.predict(reshape_data_knn)\n",
        "print(predict_knn_lable)\n",
        "if(predict_knn_lable[0]==\"R\"):\n",
        "  print(\"Rock\")\n",
        "else:\n",
        "  print(\"Mine\")\n",
        "  \n"
      ],
      "metadata": {
        "id": "82vhi3zNGfm9"
      },
      "execution_count": null,
      "outputs": []
    },
    {
      "cell_type": "markdown",
      "source": [
        "#noramlization and knn neigbours to 3"
      ],
      "metadata": {
        "id": "cPUFA3ZPOBAF"
      }
    },
    {
      "cell_type": "code",
      "source": [
        "#noramlization\n",
        "from sklearn.preprocessing import Normalizer \n",
        "scaler = Normalizer().fit(X_train)\n",
        "normalized_X_train=scaler.transform(X_train)\n",
        "normalized_X_test=scaler.transform(X_test)\n",
        "print(normalized_X_train)\n",
        "print(X_train)\n"
      ],
      "metadata": {
        "id": "vz9GMXKdN-0j"
      },
      "execution_count": null,
      "outputs": []
    },
    {
      "cell_type": "code",
      "source": [
        "from sklearn.neighbors import KNeighborsClassifier # Fitting the model using KNN\n",
        "modelnor=KNeighborsClassifier(n_neighbors=3)#setting knn neibours value to 3 defalut is 5\n",
        "modelnor.fit(normalized_X_train,Y_train)\n"
      ],
      "metadata": {
        "id": "DZi5QcZnPIbK"
      },
      "execution_count": null,
      "outputs": []
    },
    {
      "cell_type": "code",
      "source": [
        "from sklearn.metrics import accuracy_score\n",
        "y_predict_nor=modelnor.predict(normalized_X_test)\n",
        "acuracy_normal=accuracy_score(y_predict_nor, Y_test)\n",
        "print(acuracy_normal)\n"
      ],
      "metadata": {
        "id": "WDMuWCX6PsLC"
      },
      "execution_count": null,
      "outputs": []
    },
    {
      "cell_type": "markdown",
      "source": [
        "#Cross Validate"
      ],
      "metadata": {
        "id": "6TUYd3COU2GV"
      }
    },
    {
      "cell_type": "code",
      "source": [
        "#cross validation 5 folds\n",
        "from sklearn.model_selection import cross_val_score\n",
        "print(cross_val_score(modelnor, normalized_X_train,Y_train, cv=5))"
      ],
      "metadata": {
        "id": "49798pFNTite"
      },
      "execution_count": null,
      "outputs": []
    },
    {
      "cell_type": "code",
      "source": [
        "from sklearn.ensemble import AdaBoostClassifier\n",
        "Ada=AdaBoostClassifier(n_estimators=50,learning_rate=1)\n",
        "model = Ada.fit(X_train,Y_train)\n",
        "y_pred = model.predict(X_test)\n",
        "XAdaBoost_train_accuracy=accuracy_score(y_pred,X_test)\n",
        "print(Xknn_train_accuracy)\n"
      ],
      "metadata": {
        "id": "aVL-Sv-km_gM"
      },
      "execution_count": null,
      "outputs": []
    }
  ]
}